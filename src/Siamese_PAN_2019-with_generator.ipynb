{
 "cells": [
  {
   "cell_type": "code",
   "execution_count": 1,
   "metadata": {
    "pycharm": {
     "is_executing": true
    }
   },
   "outputs": [],
   "source": [
    "import pandas as pd\n",
    "import numpy as np\n",
    "import matplotlib.pyplot as plt\n",
    "import config\n",
    "from spacy.lang.en import English\n",
    "import spacy\n",
    "spacy.prefer_gpu()\n",
    "%matplotlib inline\n",
    "import tensorflow as tf\n",
    "from tensorflow.keras.preprocessing.text import Tokenizer\n",
    "from tensorflow.keras.preprocessing.sequence import pad_sequences\n",
    "from tensorflow.keras.layers import Input, Concatenate,GlobalMaxPool2D,Multiply\n",
    "from tensorflow.keras.layers import Dropout, Subtract, Add, GlobalAvgPool2D, Conv2D, Bidirectional\n",
    "from tensorflow.keras.layers import Flatten, Dense, Embedding, LSTM, ZeroPadding2D\n",
    "from tensorflow.keras.layers import BatchNormalization, MaxPooling2D, Concatenate, Lambda,concatenate\n",
    "from tensorflow.keras.models import Model, Sequential\n",
    "from tensorflow.keras.regularizers import l2\n",
    "from tensorflow.keras.optimizers import Adam, Adadelta\n",
    "from tensorflow.keras.initializers import glorot_uniform, Constant\n",
    "from sklearn.model_selection import train_test_split\n",
    "import os\n",
    "import json"
   ]
  },
  {
   "cell_type": "code",
   "execution_count": 2,
   "metadata": {
    "pycharm": {
     "name": "#%%\n"
    }
   },
   "outputs": [
    {
     "name": "stdout",
     "output_type": "stream",
     "text": [
      "Loading training file from path:  /home/sukanya/PhD/Datasets/PAN SCD/pan19-style-change-detection/processed/train.csv\n"
     ]
    },
    {
     "data": {
      "text/html": [
       "<div>\n",
       "<style scoped>\n",
       "    .dataframe tbody tr th:only-of-type {\n",
       "        vertical-align: middle;\n",
       "    }\n",
       "\n",
       "    .dataframe tbody tr th {\n",
       "        vertical-align: top;\n",
       "    }\n",
       "\n",
       "    .dataframe thead th {\n",
       "        text-align: right;\n",
       "    }\n",
       "</style>\n",
       "<table border=\"1\" class=\"dataframe\">\n",
       "  <thead>\n",
       "    <tr style=\"text-align: right;\">\n",
       "      <th></th>\n",
       "      <th>problem</th>\n",
       "      <th>author_1</th>\n",
       "      <th>author_2</th>\n",
       "      <th>para1_text</th>\n",
       "      <th>para2_text</th>\n",
       "    </tr>\n",
       "  </thead>\n",
       "  <tbody>\n",
       "    <tr>\n",
       "      <th>0</th>\n",
       "      <td>problem-1543.txt</td>\n",
       "      <td>A1</td>\n",
       "      <td>A1</td>\n",
       "      <td>Given an alphabet $\\Sigma$ of size $k$ and two...</td>\n",
       "      <td>\\nThe paper \"Algorithmic Meta Theorems for Cir...</td>\n",
       "    </tr>\n",
       "    <tr>\n",
       "      <th>1</th>\n",
       "      <td>problem-631.txt</td>\n",
       "      <td>A1</td>\n",
       "      <td>A3</td>\n",
       "      <td>\\nInstead of an actual GPS device, I would rec...</td>\n",
       "      <td>In the end, a seat post pump probably has the ...</td>\n",
       "    </tr>\n",
       "    <tr>\n",
       "      <th>2</th>\n",
       "      <td>problem-631.txt</td>\n",
       "      <td>A3</td>\n",
       "      <td>A2</td>\n",
       "      <td>In the end, a seat post pump probably has the ...</td>\n",
       "      <td>\\nThanks for the help. Finally what I needed t...</td>\n",
       "    </tr>\n",
       "    <tr>\n",
       "      <th>3</th>\n",
       "      <td>problem-631.txt</td>\n",
       "      <td>A2</td>\n",
       "      <td>A1</td>\n",
       "      <td>\\nThanks for the help. Finally what I needed t...</td>\n",
       "      <td>\\nIt might sound weird, but if you're finding ...</td>\n",
       "    </tr>\n",
       "    <tr>\n",
       "      <th>4</th>\n",
       "      <td>problem-631.txt</td>\n",
       "      <td>A1</td>\n",
       "      <td>A2</td>\n",
       "      <td>\\nIt might sound weird, but if you're finding ...</td>\n",
       "      <td>This is a bit weird question. I bought a Speci...</td>\n",
       "    </tr>\n",
       "  </tbody>\n",
       "</table>\n",
       "</div>"
      ],
      "text/plain": [
       "            problem author_1 author_2  \\\n",
       "0  problem-1543.txt       A1       A1   \n",
       "1   problem-631.txt       A1       A3   \n",
       "2   problem-631.txt       A3       A2   \n",
       "3   problem-631.txt       A2       A1   \n",
       "4   problem-631.txt       A1       A2   \n",
       "\n",
       "                                          para1_text  \\\n",
       "0  Given an alphabet $\\Sigma$ of size $k$ and two...   \n",
       "1  \\nInstead of an actual GPS device, I would rec...   \n",
       "2  In the end, a seat post pump probably has the ...   \n",
       "3  \\nThanks for the help. Finally what I needed t...   \n",
       "4  \\nIt might sound weird, but if you're finding ...   \n",
       "\n",
       "                                          para2_text  \n",
       "0  \\nThe paper \"Algorithmic Meta Theorems for Cir...  \n",
       "1  In the end, a seat post pump probably has the ...  \n",
       "2  \\nThanks for the help. Finally what I needed t...  \n",
       "3  \\nIt might sound weird, but if you're finding ...  \n",
       "4  This is a bit weird question. I bought a Speci...  "
      ]
     },
     "execution_count": 2,
     "metadata": {},
     "output_type": "execute_result"
    }
   ],
   "source": [
    "print(\"Loading training file from path: \", config.config_io.get('pan_19_processed_train')) # pan_20_processed_train_wide\n",
    "training_data = pd.read_csv(config.config_io.get('pan_19_processed_train'))\n",
    "training_data.head()"
   ]
  },
  {
   "cell_type": "code",
   "execution_count": 3,
   "metadata": {},
   "outputs": [
    {
     "data": {
      "text/plain": [
       "(18961, 5)"
      ]
     },
     "execution_count": 3,
     "metadata": {},
     "output_type": "execute_result"
    }
   ],
   "source": [
    "training_data.shape"
   ]
  },
  {
   "cell_type": "code",
   "execution_count": 4,
   "metadata": {},
   "outputs": [
    {
     "data": {
      "text/plain": [
       "0.5795053003533569"
      ]
     },
     "execution_count": 4,
     "metadata": {},
     "output_type": "execute_result"
    }
   ],
   "source": [
    "sum(training_data['author_1']== training_data['author_2'])/len(training_data)"
   ]
  },
  {
   "cell_type": "code",
   "execution_count": 5,
   "metadata": {},
   "outputs": [],
   "source": [
    "combined = training_data[\"para1_text\"] + \" \" + training_data[\"para2_text\"]"
   ]
  },
  {
   "cell_type": "code",
   "execution_count": 6,
   "metadata": {},
   "outputs": [],
   "source": [
    "max_words = 10000\n",
    "t = Tokenizer(num_words=max_words, oov_token=\"<OOV>\")\n",
    "t.fit_on_texts(combined.values)\n"
   ]
  },
  {
   "cell_type": "code",
   "execution_count": 7,
   "metadata": {},
   "outputs": [],
   "source": [
    "max_len = 300"
   ]
  },
  {
   "cell_type": "markdown",
   "metadata": {},
   "source": [
    "We see that most of the values are less than say len 100, so we can infact try with length 200 and see how that goes"
   ]
  },
  {
   "cell_type": "code",
   "execution_count": 8,
   "metadata": {},
   "outputs": [
    {
     "name": "stdout",
     "output_type": "stream",
     "text": [
      "Found 400000 word vectors.\n"
     ]
    }
   ],
   "source": [
    "embeddings_index = {}\n",
    "f = open('/home/sukanya/PhD/Embeddings/Glove/glove.6B.50d.txt')\n",
    "for line in f:\n",
    "    values = line.split()\n",
    "    word = values[0]\n",
    "    coefs = np.asarray(values[1:], dtype='float32')\n",
    "    embeddings_index[word] = coefs\n",
    "f.close()\n",
    "\n",
    "print('Found %s word vectors.' % len(embeddings_index))"
   ]
  },
  {
   "cell_type": "code",
   "execution_count": 9,
   "metadata": {},
   "outputs": [],
   "source": [
    "def get_glove_embed_matrix(t, embeddings_index, embedding_vector_size = 50):\n",
    "    \"\"\"\n",
    "    t: tokenizer\n",
    "    \n",
    "    \"\"\"\n",
    "    not_present_list = []\n",
    "    vocab_size = len(t.word_index) + 1\n",
    "    embedding_matrix = np.zeros((vocab_size, len(embeddings_index['no'])))\n",
    "    for word, i in t.word_index.items():\n",
    "        embedding_vector = None\n",
    "        if word in embeddings_index.keys():\n",
    "            embedding_vector = embeddings_index.get(word)\n",
    "        else:\n",
    "            not_present_list.append(word)\n",
    "        if embedding_vector is not None:\n",
    "            embedding_matrix[i] = embedding_vector\n",
    "        else:\n",
    "            embedding_matrix[i] = np.zeros(embedding_vector_size) # size of the embedding\n",
    "    print('Loaded %s word vectors.' % len(embeddings_index))\n",
    "    return embedding_matrix"
   ]
  },
  {
   "cell_type": "code",
   "execution_count": 10,
   "metadata": {},
   "outputs": [
    {
     "name": "stdout",
     "output_type": "stream",
     "text": [
      "Loaded 400000 word vectors.\n"
     ]
    }
   ],
   "source": [
    "embedding_dim = 50\n",
    "embed_matrix = get_glove_embed_matrix(t, embeddings_index, embedding_vector_size = embedding_dim)"
   ]
  },
  {
   "cell_type": "code",
   "execution_count": 11,
   "metadata": {},
   "outputs": [
    {
     "data": {
      "text/plain": [
       "(56176, 50)"
      ]
     },
     "execution_count": 11,
     "metadata": {},
     "output_type": "execute_result"
    }
   ],
   "source": [
    "embed_matrix.shape"
   ]
  },
  {
   "cell_type": "code",
   "execution_count": 12,
   "metadata": {},
   "outputs": [],
   "source": [
    "from src.DataGeneratorSiamese import DataGeneratorSiamese\n",
    "len_train = len(training_data)\n",
    "#\n",
    "#\n",
    "training_generator = DataGeneratorSiamese(training_data.iloc[0:int(0.8*len_train)], tokenizer=t,max_len=max_len, batch_size=64)\n",
    "validation_generator = DataGeneratorSiamese(training_data.iloc[int(0.8*len_train):], tokenizer=t, max_len=max_len, batch_size=64)\n",
    "\n",
    "# this is a hack for \"'DataGenerator' object has no attribute 'index'\". It turns out that on_epoch_end creates the index that is used\n",
    "training_generator.on_epoch_end()\n",
    "validation_generator.on_epoch_end()"
   ]
  },
  {
   "cell_type": "code",
   "execution_count": 13,
   "metadata": {},
   "outputs": [],
   "source": [
    "def manh_lstm_distance(left, right):\n",
    "    distance = tf.keras.backend.abs(left-right)\n",
    "    distance = tf.keras.backend.sum(distance, axis=1, keepdims=True)\n",
    "    distance = -distance\n",
    "    distance = tf.keras.backend.exp(distance)\n",
    "    return distance"
   ]
  },
  {
   "cell_type": "code",
   "execution_count": null,
   "metadata": {},
   "outputs": [],
   "source": []
  },
  {
   "cell_type": "code",
   "execution_count": 14,
   "metadata": {},
   "outputs": [],
   "source": [
    "def exponent_neg_cosine_distance(left,right):\n",
    "    left = tf.keras.backend.l2_normalize(left, axis=-1)\n",
    "    right = tf.keras.backend.l2_normalize(right, axis=-1)\n",
    "    return tf.keras.backend.exp(tf.keras.backend.sum(tf.keras.backend.prod([left, right], axis=0), axis=1, keepdims=True))"
   ]
  },
  {
   "cell_type": "code",
   "execution_count": 15,
   "metadata": {},
   "outputs": [],
   "source": [
    "def exponent_neg_manhattan_distance(left, right):\n",
    "    ''' Helper function for the similarity estimate of the LSTMs outputs'''\n",
    "    return tf.keras.backend.exp.exp(-tf.keras.backend.exp.sum(tf.keras.backend.exp.abs(left-right), axis=1, keepdims=True))"
   ]
  },
  {
   "cell_type": "code",
   "execution_count": 16,
   "metadata": {},
   "outputs": [],
   "source": [
    "def exponent_neg_euclidean_distance(left, right):\n",
    "    distance = tf.keras.backend.square(left-right)\n",
    "    distance = tf.keras.backend.sum(distance, axis=1, keepdims=True)\n",
    "    distance = tf.keras.backend.sqrt(distance, axis = 1, keepdims = True)\n",
    "    distance = tf.keras.backend.exp(-distance)\n",
    "    return distance"
   ]
  },
  {
   "cell_type": "code",
   "execution_count": 17,
   "metadata": {},
   "outputs": [],
   "source": [
    "input_1 = Input(shape=(max_len,))#(train_p1_seq.shape[1],)\n",
    "input_2 = Input(shape=(max_len,))\n",
    "\n",
    "\n",
    "lstm_layer = Bidirectional(LSTM(50, dropout=0.2, recurrent_dropout=0.2))\n",
    "#lstm_layer = tf.keras.layers.LSTM(50, name=\"common_lstm_layer\")\n",
    "# max_words 10000 , embedding_dim = 50, max_len = 300\n",
    "embeddings_initializer = Constant(embed_matrix)\n",
    "emb =  Embedding(len(t.word_index)+1, \n",
    "                 embedding_dim, \n",
    "                 embeddings_initializer=embeddings_initializer,\n",
    "                 input_length=max_len, \n",
    "                 weights=[embed_matrix],\n",
    "                 trainable=True)\n",
    "\n",
    "e1 = emb(input_1)\n",
    "x1 = lstm_layer(e1)\n",
    "\n",
    "e2 = emb(input_2)\n",
    "x2 = lstm_layer(e2)\n",
    "\n",
    "#concats = concatenate([x1, x2], axis=-1)\n",
    "#merged = Lambda(exponent_neg_cosine_distance, output_shape=(1,))(concats)\n",
    "\n",
    "mhd = lambda x: exponent_neg_cosine_distance(x[0], x[1]) #manh_lstm_distance\n",
    "merged = Lambda(function=mhd, output_shape=lambda x: x[0], name='L1_distance')([x1, x2])\n",
    "preds = Dense(1, activation='sigmoid')(merged)\n",
    "model = Model(inputs=[input_1, input_2], outputs=preds)\n",
    "model.compile(loss=\"binary_crossentropy\", metrics=['acc'], optimizer=Adam(clipnorm=1.5))\n"
   ]
  },
  {
   "cell_type": "code",
   "execution_count": 18,
   "metadata": {},
   "outputs": [
    {
     "name": "stdout",
     "output_type": "stream",
     "text": [
      "Model: \"model\"\n",
      "__________________________________________________________________________________________________\n",
      "Layer (type)                    Output Shape         Param #     Connected to                     \n",
      "==================================================================================================\n",
      "input_1 (InputLayer)            [(None, 300)]        0                                            \n",
      "__________________________________________________________________________________________________\n",
      "input_2 (InputLayer)            [(None, 300)]        0                                            \n",
      "__________________________________________________________________________________________________\n",
      "embedding (Embedding)           (None, 300, 50)      2808800     input_1[0][0]                    \n",
      "                                                                 input_2[0][0]                    \n",
      "__________________________________________________________________________________________________\n",
      "bidirectional (Bidirectional)   (None, 100)          40400       embedding[0][0]                  \n",
      "                                                                 embedding[1][0]                  \n",
      "__________________________________________________________________________________________________\n",
      "L1_distance (Lambda)            (None, 1)            0           bidirectional[0][0]              \n",
      "                                                                 bidirectional[1][0]              \n",
      "__________________________________________________________________________________________________\n",
      "dense (Dense)                   (None, 1)            2           L1_distance[0][0]                \n",
      "==================================================================================================\n",
      "Total params: 2,849,202\n",
      "Trainable params: 2,849,202\n",
      "Non-trainable params: 0\n",
      "__________________________________________________________________________________________________\n"
     ]
    }
   ],
   "source": [
    "model.summary()"
   ]
  },
  {
   "cell_type": "code",
   "execution_count": 19,
   "metadata": {
    "scrolled": false
   },
   "outputs": [
    {
     "name": "stdout",
     "output_type": "stream",
     "text": [
      "Epoch 1/30\n",
      "100/100 [==============================] - 37s 325ms/step - loss: 0.9161 - acc: 0.3945 - val_loss: 0.7917 - val_acc: 0.4203\n",
      "Epoch 2/30\n",
      "100/100 [==============================] - 35s 347ms/step - loss: 0.7763 - acc: 0.4178 - val_loss: 0.7592 - val_acc: 0.4203\n",
      "Epoch 3/30\n",
      "100/100 [==============================] - 34s 337ms/step - loss: 0.7362 - acc: 0.4426 - val_loss: 0.7358 - val_acc: 0.4203\n",
      "Epoch 4/30\n",
      "100/100 [==============================] - 33s 335ms/step - loss: 0.7262 - acc: 0.4098 - val_loss: 0.7163 - val_acc: 0.4221\n",
      "Epoch 5/30\n",
      "100/100 [==============================] - 34s 342ms/step - loss: 0.7080 - acc: 0.4267 - val_loss: 0.7039 - val_acc: 0.4650\n",
      "Epoch 6/30\n",
      "100/100 [==============================] - 34s 337ms/step - loss: 0.6941 - acc: 0.5055 - val_loss: 0.6962 - val_acc: 0.5019\n",
      "Epoch 7/30\n",
      "100/100 [==============================] - 34s 342ms/step - loss: 0.6865 - acc: 0.5702 - val_loss: 0.6910 - val_acc: 0.5392\n",
      "Epoch 8/30\n",
      "100/100 [==============================] - 34s 336ms/step - loss: 0.6817 - acc: 0.5977 - val_loss: 0.6871 - val_acc: 0.5477\n",
      "Epoch 9/30\n",
      "100/100 [==============================] - 34s 337ms/step - loss: 0.6742 - acc: 0.6182 - val_loss: 0.6843 - val_acc: 0.5651\n",
      "Epoch 10/30\n",
      "100/100 [==============================] - 33s 334ms/step - loss: 0.6726 - acc: 0.6110 - val_loss: 0.6840 - val_acc: 0.5636\n",
      "Epoch 11/30\n",
      "100/100 [==============================] - 34s 342ms/step - loss: 0.6693 - acc: 0.6134 - val_loss: 0.6982 - val_acc: 0.4695\n",
      "Epoch 12/30\n",
      "100/100 [==============================] - 34s 339ms/step - loss: 0.6731 - acc: 0.5970 - val_loss: 0.6795 - val_acc: 0.5792\n",
      "Epoch 13/30\n",
      "100/100 [==============================] - 33s 334ms/step - loss: 0.6588 - acc: 0.6250 - val_loss: 0.6789 - val_acc: 0.5834\n",
      "Epoch 14/30\n",
      "100/100 [==============================] - 34s 336ms/step - loss: 0.6643 - acc: 0.6290 - val_loss: 0.6783 - val_acc: 0.5840\n",
      "Epoch 15/30\n",
      "100/100 [==============================] - 33s 335ms/step - loss: 0.6594 - acc: 0.6536 - val_loss: 0.6661 - val_acc: 0.6475\n",
      "Epoch 16/30\n",
      "100/100 [==============================] - 33s 334ms/step - loss: 0.6537 - acc: 0.6731 - val_loss: 0.6535 - val_acc: 0.6676\n",
      "Epoch 17/30\n",
      "100/100 [==============================] - 33s 335ms/step - loss: 0.6398 - acc: 0.7138 - val_loss: 0.6489 - val_acc: 0.7005\n",
      "Epoch 18/30\n",
      "100/100 [==============================] - 33s 332ms/step - loss: 0.6424 - acc: 0.7022 - val_loss: 0.6455 - val_acc: 0.7074\n",
      "Epoch 19/30\n",
      "100/100 [==============================] - 33s 331ms/step - loss: 0.6418 - acc: 0.7137 - val_loss: 0.6426 - val_acc: 0.6973\n",
      "Epoch 20/30\n",
      "100/100 [==============================] - 34s 338ms/step - loss: 0.6352 - acc: 0.7118 - val_loss: 0.6409 - val_acc: 0.6994\n",
      "Epoch 21/30\n",
      "100/100 [==============================] - 34s 336ms/step - loss: 0.6278 - acc: 0.7201 - val_loss: 0.6457 - val_acc: 0.6827\n",
      "Epoch 22/30\n",
      "100/100 [==============================] - 34s 337ms/step - loss: 0.6243 - acc: 0.7176 - val_loss: 0.6382 - val_acc: 0.6994\n",
      "Epoch 23/30\n",
      "100/100 [==============================] - 34s 341ms/step - loss: 0.6226 - acc: 0.7217 - val_loss: 0.6385 - val_acc: 0.6965\n",
      "Epoch 24/30\n",
      "100/100 [==============================] - 34s 339ms/step - loss: 0.6225 - acc: 0.7196 - val_loss: 0.6323 - val_acc: 0.7007\n",
      "Epoch 25/30\n",
      "100/100 [==============================] - 34s 337ms/step - loss: 0.6087 - acc: 0.7459 - val_loss: 0.6350 - val_acc: 0.6923\n",
      "Epoch 26/30\n",
      "100/100 [==============================] - 34s 342ms/step - loss: 0.6133 - acc: 0.7240 - val_loss: 0.6365 - val_acc: 0.6888\n",
      "Epoch 27/30\n",
      "100/100 [==============================] - 34s 337ms/step - loss: 0.6037 - acc: 0.7393 - val_loss: 0.6280 - val_acc: 0.6970\n",
      "Epoch 28/30\n",
      "100/100 [==============================] - 34s 339ms/step - loss: 0.6023 - acc: 0.7401 - val_loss: 0.6271 - val_acc: 0.6925\n",
      "Epoch 29/30\n",
      "100/100 [==============================] - 34s 338ms/step - loss: 0.5931 - acc: 0.7485 - val_loss: 0.6268 - val_acc: 0.6994\n",
      "Epoch 30/30\n",
      "100/100 [==============================] - 34s 336ms/step - loss: 0.5849 - acc: 0.7590 - val_loss: 0.6253 - val_acc: 0.6894\n"
     ]
    }
   ],
   "source": [
    "history = model.fit(training_generator, validation_data=validation_generator, verbose=1, batch_size=64, \n",
    "                             epochs=30, steps_per_epoch=100) #, callbacks=[callback]"
   ]
  },
  {
   "cell_type": "code",
   "execution_count": 20,
   "metadata": {
    "scrolled": true
   },
   "outputs": [
    {
     "data": {
      "text/plain": [
       "<matplotlib.axes._subplots.AxesSubplot at 0x7f8c787a06a0>"
      ]
     },
     "execution_count": 20,
     "metadata": {},
     "output_type": "execute_result"
    },
    {
     "data": {
      "image/png": "[encoded data removed]",
      "text/plain": [
       "<Figure size 432x288 with 1 Axes>"
      ]
     },
     "metadata": {
      "needs_background": "light"
     },
     "output_type": "display_data"
    }
   ],
   "source": [
    "acc = pd.DataFrame({\"training acc\":history.history['acc'], \n",
    "                            \"validation acc\": history.history['val_acc']})\n",
    "acc.plot()"
   ]
  },
  {
   "cell_type": "code",
   "execution_count": 21,
   "metadata": {},
   "outputs": [
    {
     "data": {
      "text/plain": [
       "<matplotlib.axes._subplots.AxesSubplot at 0x7f8c78034c40>"
      ]
     },
     "execution_count": 21,
     "metadata": {},
     "output_type": "execute_result"
    },
    {
     "data": {
      "image/png": "[encoded data removed]",
      "text/plain": [
       "<Figure size 432x288 with 1 Axes>"
      ]
     },
     "metadata": {
      "needs_background": "light"
     },
     "output_type": "display_data"
    }
   ],
   "source": [
    "loss = pd.DataFrame({\"training acc\":history.history['loss'], \n",
    "                            \"validation acc\": history.history['val_loss']})\n",
    "loss.plot()"
   ]
  },
  {
   "cell_type": "code",
   "execution_count": null,
   "metadata": {},
   "outputs": [],
   "source": []
  },
  {
   "cell_type": "code",
   "execution_count": 22,
   "metadata": {},
   "outputs": [],
   "source": [
    "testing_data = pd.read_csv(config.config_io.get('pan_19_processed_test'))\n",
    "testing_generator = DataGeneratorSiamese(testing_data, tokenizer=t, max_len=max_len, batch_size=64)\n",
    "testing_generator.on_epoch_end()"
   ]
  },
  {
   "cell_type": "code",
   "execution_count": 23,
   "metadata": {},
   "outputs": [
    {
     "name": "stdout",
     "output_type": "stream",
     "text": [
      "149/149 [==============================] - 7s 45ms/step - loss: 0.6220 - acc: 0.6966\n"
     ]
    }
   ],
   "source": [
    "test_loss, test_acc = model.evaluate(testing_generator)"
   ]
  },
  {
   "cell_type": "code",
   "execution_count": null,
   "metadata": {},
   "outputs": [],
   "source": []
  }
 ],
 "metadata": {
  "kernelspec": {
   "display_name": "PyCharm (SiameseNetworkTensorflow)",
   "language": "python",
   "name": "pycharm-edf9727a"
  },
  "language_info": {
   "codemirror_mode": {
    "name": "ipython",
    "version": 3
   },
   "file_extension": ".py",
   "mimetype": "text/x-python",
   "name": "python",
   "nbconvert_exporter": "python",
   "pygments_lexer": "ipython3",
   "version": "3.8.5"
  }
 },
 "nbformat": 4,
 "nbformat_minor": 1
}