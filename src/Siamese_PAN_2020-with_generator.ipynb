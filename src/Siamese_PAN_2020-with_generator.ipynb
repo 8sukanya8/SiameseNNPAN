{
 "cells": [
  {
   "cell_type": "code",
   "execution_count": 1,
   "metadata": {
    "pycharm": {
     "is_executing": true
    }
   },
   "outputs": [],
   "source": [
    "import pandas as pd\n",
    "import numpy as np\n",
    "import matplotlib.pyplot as plt\n",
    "import config\n",
    "from spacy.lang.en import English\n",
    "import spacy\n",
    "spacy.prefer_gpu()\n",
    "%matplotlib inline\n",
    "import tensorflow as tf\n",
    "from tensorflow.keras.preprocessing.text import Tokenizer\n",
    "from tensorflow.keras.preprocessing.sequence import pad_sequences\n",
    "from tensorflow.keras.layers import Input, Concatenate,GlobalMaxPool2D,Multiply\n",
    "from tensorflow.keras.layers import Dropout, Subtract, Add, GlobalAvgPool2D, Conv2D, Bidirectional\n",
    "from tensorflow.keras.layers import Flatten, Dense, Embedding, LSTM, ZeroPadding2D\n",
    "from tensorflow.keras.layers import BatchNormalization, MaxPooling2D, Concatenate, Lambda,concatenate\n",
    "from tensorflow.keras.models import Model, Sequential\n",
    "from tensorflow.keras.regularizers import l2\n",
    "from tensorflow.keras.optimizers import Adam, Adadelta\n",
    "from tensorflow.keras.initializers import glorot_uniform, Constant\n",
    "from sklearn.model_selection import train_test_split\n",
    "import os\n",
    "import json"
   ]
  },
  {
   "cell_type": "code",
   "execution_count": 2,
   "metadata": {
    "pycharm": {
     "name": "#%%\n"
    }
   },
   "outputs": [
    {
     "name": "stdout",
     "output_type": "stream",
     "text": [
      "Loading training file from path:  /home/sukanya/PhD/Datasets/PAN SCD/pan20-style-change-detection/processed/train/wide.csv\n"
     ]
    },
    {
     "data": {
      "text/html": [
       "<div>\n",
       "<style scoped>\n",
       "    .dataframe tbody tr th:only-of-type {\n",
       "        vertical-align: middle;\n",
       "    }\n",
       "\n",
       "    .dataframe tbody tr th {\n",
       "        vertical-align: top;\n",
       "    }\n",
       "\n",
       "    .dataframe thead th {\n",
       "        text-align: right;\n",
       "    }\n",
       "</style>\n",
       "<table border=\"1\" class=\"dataframe\">\n",
       "  <thead>\n",
       "    <tr style=\"text-align: right;\">\n",
       "      <th></th>\n",
       "      <th>problem</th>\n",
       "      <th>author_1</th>\n",
       "      <th>author_2</th>\n",
       "      <th>para1_text</th>\n",
       "      <th>para2_text</th>\n",
       "    </tr>\n",
       "  </thead>\n",
       "  <tbody>\n",
       "    <tr>\n",
       "      <th>0</th>\n",
       "      <td>problem-4845.txt</td>\n",
       "      <td>A1</td>\n",
       "      <td>A1</td>\n",
       "      <td>My understanding is that meditation went throu...</td>\n",
       "      <td>what's the distinction between Dharmaguptaka a...</td>\n",
       "    </tr>\n",
       "    <tr>\n",
       "      <th>1</th>\n",
       "      <td>problem-4845.txt</td>\n",
       "      <td>A1</td>\n",
       "      <td>A1</td>\n",
       "      <td>what's the distinction between Dharmaguptaka a...</td>\n",
       "      <td>What's the history behind this? I am assuming ...</td>\n",
       "    </tr>\n",
       "    <tr>\n",
       "      <th>2</th>\n",
       "      <td>problem-4845.txt</td>\n",
       "      <td>A1</td>\n",
       "      <td>A1</td>\n",
       "      <td>What's the history behind this? I am assuming ...</td>\n",
       "      <td>During an course I attended under the name \"In...</td>\n",
       "    </tr>\n",
       "    <tr>\n",
       "      <th>3</th>\n",
       "      <td>problem-4845.txt</td>\n",
       "      <td>A1</td>\n",
       "      <td>A1</td>\n",
       "      <td>During an course I attended under the name \"In...</td>\n",
       "      <td>in the city where i live (Toronto, although th...</td>\n",
       "    </tr>\n",
       "    <tr>\n",
       "      <th>4</th>\n",
       "      <td>problem-4845.txt</td>\n",
       "      <td>A1</td>\n",
       "      <td>A1</td>\n",
       "      <td>in the city where i live (Toronto, although th...</td>\n",
       "      <td>As a Western Buddhist, I'd say the advice is i...</td>\n",
       "    </tr>\n",
       "  </tbody>\n",
       "</table>\n",
       "</div>"
      ],
      "text/plain": [
       "            problem author_1 author_2  \\\n",
       "0  problem-4845.txt       A1       A1   \n",
       "1  problem-4845.txt       A1       A1   \n",
       "2  problem-4845.txt       A1       A1   \n",
       "3  problem-4845.txt       A1       A1   \n",
       "4  problem-4845.txt       A1       A1   \n",
       "\n",
       "                                          para1_text  \\\n",
       "0  My understanding is that meditation went throu...   \n",
       "1  what's the distinction between Dharmaguptaka a...   \n",
       "2  What's the history behind this? I am assuming ...   \n",
       "3  During an course I attended under the name \"In...   \n",
       "4  in the city where i live (Toronto, although th...   \n",
       "\n",
       "                                          para2_text  \n",
       "0  what's the distinction between Dharmaguptaka a...  \n",
       "1  What's the history behind this? I am assuming ...  \n",
       "2  During an course I attended under the name \"In...  \n",
       "3  in the city where i live (Toronto, although th...  \n",
       "4  As a Western Buddhist, I'd say the advice is i...  "
      ]
     },
     "execution_count": 2,
     "metadata": {},
     "output_type": "execute_result"
    }
   ],
   "source": [
    "print(\"Loading training file from path: \", config.config_io.get('pan_20_processed_train_wide')) # pan_20_processed_train_wide\n",
    "training_data = pd.read_csv(config.config_io.get('pan_20_processed_train_wide'))\n",
    "training_data.head()"
   ]
  },
  {
   "cell_type": "code",
   "execution_count": 3,
   "metadata": {},
   "outputs": [
    {
     "data": {
      "text/plain": [
       "(136776, 5)"
      ]
     },
     "execution_count": 3,
     "metadata": {},
     "output_type": "execute_result"
    }
   ],
   "source": [
    "training_data.shape"
   ]
  },
  {
   "cell_type": "code",
   "execution_count": 50,
   "metadata": {},
   "outputs": [
    {
     "data": {
      "text/plain": [
       "0.5"
      ]
     },
     "execution_count": 50,
     "metadata": {},
     "output_type": "execute_result"
    }
   ],
   "source": [
    "sum(training_data['author_1']== training_data['author_2'])/len(training_data)"
   ]
  },
  {
   "cell_type": "code",
   "execution_count": 24,
   "metadata": {},
   "outputs": [],
   "source": [
    "#getting a balanced dataset\n",
    "same_author = training_data[training_data['author_1']== training_data['author_2']]\n",
    "diff_author = training_data[training_data['author_1']!= training_data['author_2']]"
   ]
  },
  {
   "cell_type": "code",
   "execution_count": 27,
   "metadata": {},
   "outputs": [
    {
     "data": {
      "text/plain": [
       "(23004, 5)"
      ]
     },
     "execution_count": 27,
     "metadata": {},
     "output_type": "execute_result"
    }
   ],
   "source": [
    "diff_author.shape"
   ]
  },
  {
   "cell_type": "code",
   "execution_count": 28,
   "metadata": {},
   "outputs": [
    {
     "data": {
      "text/plain": [
       "(113772, 5)"
      ]
     },
     "execution_count": 28,
     "metadata": {},
     "output_type": "execute_result"
    }
   ],
   "source": [
    "same_author.shape"
   ]
  },
  {
   "cell_type": "code",
   "execution_count": 29,
   "metadata": {},
   "outputs": [],
   "source": [
    "new_training_data = pd.concat([diff_author, same_author[0:len(diff_author)]])"
   ]
  },
  {
   "cell_type": "code",
   "execution_count": 32,
   "metadata": {},
   "outputs": [
    {
     "data": {
      "text/plain": [
       "(46008, 5)"
      ]
     },
     "execution_count": 32,
     "metadata": {},
     "output_type": "execute_result"
    }
   ],
   "source": [
    "new_training_data.shape"
   ]
  },
  {
   "cell_type": "code",
   "execution_count": 33,
   "metadata": {},
   "outputs": [],
   "source": [
    "new_training_data = new_training_data.sample(frac=1).reset_index(drop=True)"
   ]
  },
  {
   "cell_type": "code",
   "execution_count": 34,
   "metadata": {},
   "outputs": [],
   "source": [
    "new_training_data.to_csv(\"new_training.csv\", index=False)"
   ]
  },
  {
   "cell_type": "code",
   "execution_count": 35,
   "metadata": {},
   "outputs": [],
   "source": [
    "training_data = new_training_data"
   ]
  },
  {
   "cell_type": "code",
   "execution_count": null,
   "metadata": {},
   "outputs": [],
   "source": []
  },
  {
   "cell_type": "code",
   "execution_count": null,
   "metadata": {},
   "outputs": [],
   "source": []
  },
  {
   "cell_type": "code",
   "execution_count": null,
   "metadata": {},
   "outputs": [],
   "source": []
  },
  {
   "cell_type": "code",
   "execution_count": null,
   "metadata": {},
   "outputs": [],
   "source": [
    "training_data = pd.read_csv(config.config_io.get('new_training.csv'))"
   ]
  },
  {
   "cell_type": "code",
   "execution_count": 36,
   "metadata": {},
   "outputs": [],
   "source": [
    "combined = training_data[\"para1_text\"] + \" \" + training_data[\"para2_text\"]"
   ]
  },
  {
   "cell_type": "code",
   "execution_count": 37,
   "metadata": {},
   "outputs": [],
   "source": [
    "max_words = 10000\n",
    "t = Tokenizer(num_words=max_words, oov_token=\"<OOV>\")\n",
    "t.fit_on_texts(combined.values)\n"
   ]
  },
  {
   "cell_type": "code",
   "execution_count": 38,
   "metadata": {},
   "outputs": [],
   "source": [
    "max_len = 300"
   ]
  },
  {
   "cell_type": "markdown",
   "metadata": {},
   "source": [
    "We see that most of the values are less than say len 100, so we can infact try with length 200 and see how that goes"
   ]
  },
  {
   "cell_type": "code",
   "execution_count": 39,
   "metadata": {},
   "outputs": [
    {
     "name": "stdout",
     "output_type": "stream",
     "text": [
      "Found 400000 word vectors.\n"
     ]
    }
   ],
   "source": [
    "embeddings_index = {}\n",
    "f = open('/home/sukanya/PhD/Embeddings/Glove/glove.6B.50d.txt')\n",
    "for line in f:\n",
    "    values = line.split()\n",
    "    word = values[0]\n",
    "    coefs = np.asarray(values[1:], dtype='float32')\n",
    "    embeddings_index[word] = coefs\n",
    "f.close()\n",
    "\n",
    "print('Found %s word vectors.' % len(embeddings_index))"
   ]
  },
  {
   "cell_type": "code",
   "execution_count": 40,
   "metadata": {},
   "outputs": [],
   "source": [
    "def get_glove_embed_matrix(t, embeddings_index, embedding_vector_size = 50):\n",
    "    \"\"\"\n",
    "    t: tokenizer\n",
    "    \n",
    "    \"\"\"\n",
    "    not_present_list = []\n",
    "    vocab_size = len(t.word_index) + 1\n",
    "    embedding_matrix = np.zeros((vocab_size, len(embeddings_index['no'])))\n",
    "    for word, i in t.word_index.items():\n",
    "        embedding_vector = None\n",
    "        if word in embeddings_index.keys():\n",
    "            embedding_vector = embeddings_index.get(word)\n",
    "        else:\n",
    "            not_present_list.append(word)\n",
    "        if embedding_vector is not None:\n",
    "            embedding_matrix[i] = embedding_vector\n",
    "        else:\n",
    "            embedding_matrix[i] = np.zeros(embedding_vector_size) # size of the embedding\n",
    "    print('Loaded %s word vectors.' % len(embeddings_index))\n",
    "    return embedding_matrix"
   ]
  },
  {
   "cell_type": "code",
   "execution_count": 41,
   "metadata": {},
   "outputs": [
    {
     "name": "stdout",
     "output_type": "stream",
     "text": [
      "Loaded 400000 word vectors.\n"
     ]
    }
   ],
   "source": [
    "embedding_dim = 50\n",
    "embed_matrix = get_glove_embed_matrix(t, embeddings_index, embedding_vector_size = embedding_dim)"
   ]
  },
  {
   "cell_type": "code",
   "execution_count": 42,
   "metadata": {},
   "outputs": [
    {
     "data": {
      "text/plain": [
       "(106945, 50)"
      ]
     },
     "execution_count": 42,
     "metadata": {},
     "output_type": "execute_result"
    }
   ],
   "source": [
    "embed_matrix.shape"
   ]
  },
  {
   "cell_type": "code",
   "execution_count": 43,
   "metadata": {},
   "outputs": [],
   "source": [
    "from src.DataGeneratorSiamese import DataGeneratorSiamese\n",
    "len_train = len(training_data)\n",
    "#\n",
    "#\n",
    "training_generator = DataGeneratorSiamese(training_data.iloc[0:int(0.8*len_train)], tokenizer=t,max_len=max_len, batch_size=64)\n",
    "validation_generator = DataGeneratorSiamese(training_data.iloc[int(0.8*len_train):], tokenizer=t, max_len=max_len, batch_size=64)\n",
    "\n",
    "# this is a hack for \"'DataGenerator' object has no attribute 'index'\". It turns out that on_epoch_end creates the index that is used\n",
    "training_generator.on_epoch_end()\n",
    "validation_generator.on_epoch_end()"
   ]
  },
  {
   "cell_type": "code",
   "execution_count": 44,
   "metadata": {},
   "outputs": [],
   "source": [
    "def manh_lstm_distance(left, right):\n",
    "    distance = tf.keras.backend.abs(left-right)\n",
    "    distance = tf.keras.backend.sum(distance, axis=1, keepdims=True)\n",
    "    distance = -distance\n",
    "    distance = tf.keras.backend.exp(distance)\n",
    "    return distance"
   ]
  },
  {
   "cell_type": "code",
   "execution_count": null,
   "metadata": {},
   "outputs": [],
   "source": []
  },
  {
   "cell_type": "code",
   "execution_count": 45,
   "metadata": {},
   "outputs": [],
   "source": [
    "def exponent_neg_cosine_distance(left,right):\n",
    "    left = tf.keras.backend.l2_normalize(left, axis=-1)\n",
    "    right = tf.keras.backend.l2_normalize(right, axis=-1)\n",
    "    return tf.keras.backend.exp(tf.keras.backend.sum(tf.keras.backend.prod([left, right], axis=0), axis=1, keepdims=True))"
   ]
  },
  {
   "cell_type": "code",
   "execution_count": 46,
   "metadata": {},
   "outputs": [],
   "source": [
    "def exponent_neg_manhattan_distance(left, right):\n",
    "    ''' Helper function for the similarity estimate of the LSTMs outputs'''\n",
    "    return tf.keras.backend.exp.exp(-tf.keras.backend.exp.sum(tf.keras.backend.exp.abs(left-right), axis=1, keepdims=True))"
   ]
  },
  {
   "cell_type": "code",
   "execution_count": 47,
   "metadata": {},
   "outputs": [],
   "source": [
    "def exponent_neg_euclidean_distance(left, right):\n",
    "    distance = tf.keras.backend.square(left-right)\n",
    "    distance = tf.keras.backend.sum(distance, axis=1, keepdims=True)\n",
    "    distance = tf.keras.backend.sqrt(distance, axis = 1, keepdims = True)\n",
    "    distance = tf.keras.backend.exp(-distance)\n",
    "    return distance"
   ]
  },
  {
   "cell_type": "code",
   "execution_count": 48,
   "metadata": {},
   "outputs": [],
   "source": [
    "input_1 = Input(shape=(max_len,))#(train_p1_seq.shape[1],)\n",
    "input_2 = Input(shape=(max_len,))\n",
    "\n",
    "\n",
    "lstm_layer = Bidirectional(LSTM(50, dropout=0.2, recurrent_dropout=0.2))\n",
    "#lstm_layer = tf.keras.layers.LSTM(50, name=\"common_lstm_layer\")\n",
    "# max_words 10000 , embedding_dim = 50, max_len = 300\n",
    "embeddings_initializer = Constant(embed_matrix)\n",
    "emb =  Embedding(len(t.word_index)+1, \n",
    "                 embedding_dim, \n",
    "                 embeddings_initializer=embeddings_initializer,\n",
    "                 input_length=max_len, \n",
    "                 weights=[embed_matrix],\n",
    "                 trainable=True)\n",
    "\n",
    "e1 = emb(input_1)\n",
    "x1 = lstm_layer(e1)\n",
    "\n",
    "e2 = emb(input_2)\n",
    "x2 = lstm_layer(e2)\n",
    "\n",
    "#concats = concatenate([x1, x2], axis=-1)\n",
    "#merged = Lambda(exponent_neg_cosine_distance, output_shape=(1,))(concats)\n",
    "\n",
    "mhd = lambda x: exponent_neg_cosine_distance(x[0], x[1]) #manh_lstm_distance\n",
    "merged = Lambda(function=mhd, output_shape=lambda x: x[0], name='L1_distance')([x1, x2])\n",
    "preds = Dense(1, activation='sigmoid')(merged)\n",
    "model = Model(inputs=[input_1, input_2], outputs=preds)\n",
    "model.compile(loss=\"binary_crossentropy\", metrics=['acc'], optimizer=Adam(clipnorm=1.5))\n"
   ]
  },
  {
   "cell_type": "code",
   "execution_count": 49,
   "metadata": {},
   "outputs": [
    {
     "name": "stdout",
     "output_type": "stream",
     "text": [
      "Model: \"model_1\"\n",
      "__________________________________________________________________________________________________\n",
      "Layer (type)                    Output Shape         Param #     Connected to                     \n",
      "==================================================================================================\n",
      "input_3 (InputLayer)            [(None, 300)]        0                                            \n",
      "__________________________________________________________________________________________________\n",
      "input_4 (InputLayer)            [(None, 300)]        0                                            \n",
      "__________________________________________________________________________________________________\n",
      "embedding_1 (Embedding)         (None, 300, 50)      5347250     input_3[0][0]                    \n",
      "                                                                 input_4[0][0]                    \n",
      "__________________________________________________________________________________________________\n",
      "bidirectional_1 (Bidirectional) (None, 100)          40400       embedding_1[0][0]                \n",
      "                                                                 embedding_1[1][0]                \n",
      "__________________________________________________________________________________________________\n",
      "L1_distance (Lambda)            (None, 1)            0           bidirectional_1[0][0]            \n",
      "                                                                 bidirectional_1[1][0]            \n",
      "__________________________________________________________________________________________________\n",
      "dense_1 (Dense)                 (None, 1)            2           L1_distance[0][0]                \n",
      "==================================================================================================\n",
      "Total params: 5,387,652\n",
      "Trainable params: 5,387,652\n",
      "Non-trainable params: 0\n",
      "__________________________________________________________________________________________________\n"
     ]
    }
   ],
   "source": [
    "model.summary()"
   ]
  },
  {
   "cell_type": "code",
   "execution_count": 51,
   "metadata": {
    "scrolled": false
   },
   "outputs": [
    {
     "name": "stdout",
     "output_type": "stream",
     "text": [
      "Epoch 1/50\n",
      "100/100 [==============================] - 42s 378ms/step - loss: 0.8559 - acc: 0.4957 - val_loss: 0.7619 - val_acc: 0.5009\n",
      "Epoch 2/50\n",
      "100/100 [==============================] - 39s 392ms/step - loss: 0.7460 - acc: 0.5079 - val_loss: 0.7366 - val_acc: 0.5009\n",
      "Epoch 3/50\n",
      "100/100 [==============================] - 39s 392ms/step - loss: 0.7279 - acc: 0.4963 - val_loss: 0.7146 - val_acc: 0.5009\n",
      "Epoch 4/50\n",
      "100/100 [==============================] - 39s 387ms/step - loss: 0.7145 - acc: 0.4828 - val_loss: 0.7715 - val_acc: 0.5009\n",
      "Epoch 5/50\n",
      "100/100 [==============================] - 39s 385ms/step - loss: 0.7120 - acc: 0.5047 - val_loss: 0.6901 - val_acc: 0.5316\n",
      "Epoch 6/50\n",
      "100/100 [==============================] - 38s 384ms/step - loss: 0.6869 - acc: 0.5267 - val_loss: 0.6837 - val_acc: 0.5633\n",
      "Epoch 7/50\n",
      "100/100 [==============================] - 39s 386ms/step - loss: 0.6776 - acc: 0.5629 - val_loss: 0.6818 - val_acc: 0.5758\n",
      "Epoch 8/50\n",
      "100/100 [==============================] - 39s 387ms/step - loss: 0.6806 - acc: 0.5786 - val_loss: 0.6777 - val_acc: 0.5892\n",
      "Epoch 9/50\n",
      "100/100 [==============================] - 39s 390ms/step - loss: 0.6732 - acc: 0.6006 - val_loss: 0.6768 - val_acc: 0.5845\n",
      "Epoch 10/50\n",
      "100/100 [==============================] - 38s 384ms/step - loss: 0.6722 - acc: 0.5933 - val_loss: 0.6732 - val_acc: 0.5958\n",
      "Epoch 11/50\n",
      "100/100 [==============================] - 40s 401ms/step - loss: 0.6693 - acc: 0.6041 - val_loss: 0.6623 - val_acc: 0.6175\n",
      "Epoch 12/50\n",
      "100/100 [==============================] - 39s 391ms/step - loss: 0.6558 - acc: 0.6329 - val_loss: 0.6652 - val_acc: 0.6078\n",
      "Epoch 13/50\n",
      "100/100 [==============================] - 39s 390ms/step - loss: 0.6623 - acc: 0.6125 - val_loss: 0.6629 - val_acc: 0.6186\n",
      "Epoch 14/50\n",
      "100/100 [==============================] - 39s 386ms/step - loss: 0.6532 - acc: 0.6381 - val_loss: 0.6574 - val_acc: 0.6255\n",
      "Epoch 15/50\n",
      "100/100 [==============================] - 38s 381ms/step - loss: 0.6546 - acc: 0.6327 - val_loss: 0.6546 - val_acc: 0.6329\n",
      "Epoch 16/50\n",
      "100/100 [==============================] - 38s 383ms/step - loss: 0.6455 - acc: 0.6564 - val_loss: 0.6504 - val_acc: 0.6382\n",
      "Epoch 17/50\n",
      "100/100 [==============================] - 39s 388ms/step - loss: 0.6484 - acc: 0.6479 - val_loss: 0.6509 - val_acc: 0.6388\n",
      "Epoch 18/50\n",
      "100/100 [==============================] - 38s 385ms/step - loss: 0.6455 - acc: 0.6489 - val_loss: 0.6517 - val_acc: 0.6346\n",
      "Epoch 19/50\n",
      "100/100 [==============================] - 39s 393ms/step - loss: 0.6483 - acc: 0.6442 - val_loss: 0.6480 - val_acc: 0.6375\n",
      "Epoch 20/50\n",
      "100/100 [==============================] - 39s 395ms/step - loss: 0.6438 - acc: 0.6500 - val_loss: 0.6461 - val_acc: 0.6412\n",
      "Epoch 21/50\n",
      "100/100 [==============================] - 40s 398ms/step - loss: 0.6416 - acc: 0.6539 - val_loss: 0.6474 - val_acc: 0.6448\n",
      "Epoch 22/50\n",
      "100/100 [==============================] - 38s 385ms/step - loss: 0.6365 - acc: 0.6594 - val_loss: 0.6459 - val_acc: 0.6407\n",
      "Epoch 23/50\n",
      "100/100 [==============================] - 39s 394ms/step - loss: 0.6323 - acc: 0.6697 - val_loss: 0.6452 - val_acc: 0.6415\n",
      "Epoch 24/50\n",
      "100/100 [==============================] - 39s 392ms/step - loss: 0.6345 - acc: 0.6662 - val_loss: 0.6482 - val_acc: 0.6353\n",
      "Epoch 25/50\n",
      "100/100 [==============================] - 38s 385ms/step - loss: 0.6366 - acc: 0.6568 - val_loss: 0.6504 - val_acc: 0.6312\n",
      "Epoch 26/50\n",
      "100/100 [==============================] - 40s 399ms/step - loss: 0.6280 - acc: 0.6803 - val_loss: 0.6440 - val_acc: 0.6402\n",
      "Epoch 27/50\n",
      "100/100 [==============================] - 40s 404ms/step - loss: 0.6194 - acc: 0.6852 - val_loss: 0.6429 - val_acc: 0.6395\n",
      "Epoch 28/50\n",
      "100/100 [==============================] - 40s 397ms/step - loss: 0.6244 - acc: 0.6747 - val_loss: 0.6440 - val_acc: 0.6379\n",
      "Epoch 29/50\n",
      "100/100 [==============================] - 39s 392ms/step - loss: 0.6229 - acc: 0.6789 - val_loss: 0.6406 - val_acc: 0.6431\n",
      "Epoch 30/50\n",
      "100/100 [==============================] - 39s 389ms/step - loss: 0.6179 - acc: 0.6882 - val_loss: 0.6402 - val_acc: 0.6425\n",
      "Epoch 31/50\n",
      "100/100 [==============================] - 40s 396ms/step - loss: 0.6047 - acc: 0.7047 - val_loss: 0.6573 - val_acc: 0.6163\n",
      "Epoch 32/50\n",
      "100/100 [==============================] - 39s 387ms/step - loss: 0.6319 - acc: 0.6532 - val_loss: 0.6376 - val_acc: 0.6446\n",
      "Epoch 33/50\n",
      "100/100 [==============================] - 39s 386ms/step - loss: 0.6122 - acc: 0.6904 - val_loss: 0.6489 - val_acc: 0.6340\n",
      "Epoch 34/50\n",
      "100/100 [==============================] - 39s 394ms/step - loss: 0.6002 - acc: 0.7040 - val_loss: 0.6435 - val_acc: 0.6387\n",
      "Epoch 35/50\n",
      "100/100 [==============================] - 38s 383ms/step - loss: 0.5989 - acc: 0.7036 - val_loss: 0.6393 - val_acc: 0.6418\n",
      "Epoch 36/50\n",
      "100/100 [==============================] - 38s 382ms/step - loss: 0.6085 - acc: 0.6894 - val_loss: 0.6436 - val_acc: 0.6411\n",
      "Epoch 37/50\n",
      "100/100 [==============================] - 38s 381ms/step - loss: 0.5985 - acc: 0.7144 - val_loss: 0.6434 - val_acc: 0.6398\n",
      "Epoch 38/50\n",
      "100/100 [==============================] - 39s 392ms/step - loss: 0.5918 - acc: 0.7103 - val_loss: 0.6420 - val_acc: 0.6391\n",
      "Epoch 39/50\n",
      "100/100 [==============================] - 39s 395ms/step - loss: 0.5842 - acc: 0.7196 - val_loss: 0.6452 - val_acc: 0.6369\n",
      "Epoch 40/50\n",
      "100/100 [==============================] - 39s 394ms/step - loss: 0.5841 - acc: 0.7239 - val_loss: 0.6387 - val_acc: 0.6455\n",
      "Epoch 41/50\n",
      "100/100 [==============================] - 40s 401ms/step - loss: 0.5926 - acc: 0.7072 - val_loss: 0.6399 - val_acc: 0.6427\n",
      "Epoch 42/50\n",
      "100/100 [==============================] - 39s 393ms/step - loss: 0.5781 - acc: 0.7295 - val_loss: 0.6406 - val_acc: 0.6431\n",
      "Epoch 43/50\n",
      "100/100 [==============================] - 39s 395ms/step - loss: 0.5754 - acc: 0.7323 - val_loss: 0.6400 - val_acc: 0.6413\n",
      "Epoch 44/50\n",
      "100/100 [==============================] - 40s 398ms/step - loss: 0.5664 - acc: 0.7394 - val_loss: 0.6472 - val_acc: 0.6358\n",
      "Epoch 45/50\n",
      "100/100 [==============================] - 39s 393ms/step - loss: 0.5657 - acc: 0.7333 - val_loss: 0.6421 - val_acc: 0.6422\n",
      "Epoch 46/50\n",
      "100/100 [==============================] - 39s 387ms/step - loss: 0.5662 - acc: 0.7370 - val_loss: 0.6465 - val_acc: 0.6365\n",
      "Epoch 47/50\n",
      "100/100 [==============================] - 39s 391ms/step - loss: 0.5624 - acc: 0.7374 - val_loss: 0.6480 - val_acc: 0.6387\n",
      "Epoch 48/50\n",
      "100/100 [==============================] - 39s 386ms/step - loss: 0.5589 - acc: 0.7423 - val_loss: 0.6464 - val_acc: 0.6381\n",
      "Epoch 49/50\n",
      "100/100 [==============================] - 39s 386ms/step - loss: 0.5555 - acc: 0.7441 - val_loss: 0.6421 - val_acc: 0.6457\n",
      "Epoch 50/50\n",
      "100/100 [==============================] - 39s 388ms/step - loss: 0.5619 - acc: 0.7364 - val_loss: 0.6484 - val_acc: 0.6388\n"
     ]
    }
   ],
   "source": [
    "history = model.fit(training_generator, validation_data=validation_generator, verbose=1, batch_size=64, \n",
    "                             epochs=50, steps_per_epoch=100) #, callbacks=[callback]"
   ]
  },
  {
   "cell_type": "code",
   "execution_count": 52,
   "metadata": {
    "scrolled": true
   },
   "outputs": [
    {
     "data": {
      "text/plain": [
       "<matplotlib.axes._subplots.AxesSubplot at 0x7f631814a5b0>"
      ]
     },
     "execution_count": 52,
     "metadata": {},
     "output_type": "execute_result"
    },
    {
     "data": {
      "image/png": "[encoded data removed]",
      "text/plain": [
       "<Figure size 432x288 with 1 Axes>"
      ]
     },
     "metadata": {
      "needs_background": "light"
     },
     "output_type": "display_data"
    }
   ],
   "source": [
    "acc = pd.DataFrame({\"training acc\":history.history['acc'], \n",
    "                            \"validation acc\": history.history['val_acc']})\n",
    "acc.plot()"
   ]
  },
  {
   "cell_type": "code",
   "execution_count": 53,
   "metadata": {},
   "outputs": [
    {
     "data": {
      "text/plain": [
       "<matplotlib.axes._subplots.AxesSubplot at 0x7f6317ea7cd0>"
      ]
     },
     "execution_count": 53,
     "metadata": {},
     "output_type": "execute_result"
    },
    {
     "data": {
      "image/png": "[encoded data removed]",
      "text/plain": [
       "<Figure size 432x288 with 1 Axes>"
      ]
     },
     "metadata": {
      "needs_background": "light"
     },
     "output_type": "display_data"
    }
   ],
   "source": [
    "loss = pd.DataFrame({\"training acc\":history.history['loss'], \n",
    "                            \"validation acc\": history.history['val_loss']})\n",
    "loss.plot()"
   ]
  },
  {
   "cell_type": "code",
   "execution_count": null,
   "metadata": {},
   "outputs": [],
   "source": []
  },
  {
   "cell_type": "code",
   "execution_count": 54,
   "metadata": {},
   "outputs": [],
   "source": [
    "testing_data = pd.read_csv(config.config_io.get('pan_20_processed_test_wide'))\n",
    "testing_generator = DataGeneratorSiamese(testing_data, tokenizer=t, max_len=max_len, batch_size=64)\n",
    "testing_generator.on_epoch_end()"
   ]
  },
  {
   "cell_type": "code",
   "execution_count": 55,
   "metadata": {},
   "outputs": [
    {
     "name": "stdout",
     "output_type": "stream",
     "text": [
      "1061/1061 [==============================] - 47s 44ms/step - loss: 0.6192 - acc: 0.6330\n"
     ]
    }
   ],
   "source": [
    "test_loss, test_acc = model.evaluate(testing_generator)"
   ]
  },
  {
   "cell_type": "code",
   "execution_count": 56,
   "metadata": {},
   "outputs": [],
   "source": [
    "testing_data = pd.read_csv(config.config_io.get('pan_20_processed_test_narrow'))\n",
    "testing_generator = DataGeneratorSiamese(testing_data, tokenizer=t, max_len=max_len, batch_size=64)\n",
    "testing_generator.on_epoch_end()"
   ]
  },
  {
   "cell_type": "code",
   "execution_count": 57,
   "metadata": {},
   "outputs": [
    {
     "name": "stdout",
     "output_type": "stream",
     "text": [
      "652/652 [==============================] - 29s 45ms/step - loss: 0.5524 - acc: 0.7051\n"
     ]
    }
   ],
   "source": [
    "test_loss, test_acc = model.evaluate(testing_generator)"
   ]
  },
  {
   "cell_type": "code",
   "execution_count": null,
   "metadata": {},
   "outputs": [],
   "source": []
  }
 ],
 "metadata": {
  "kernelspec": {
   "display_name": "PyCharm (SiameseNetworkTensorflow)",
   "language": "python",
   "name": "pycharm-edf9727a"
  },
  "language_info": {
   "codemirror_mode": {
    "name": "ipython",
    "version": 3
   },
   "file_extension": ".py",
   "mimetype": "text/x-python",
   "name": "python",
   "nbconvert_exporter": "python",
   "pygments_lexer": "ipython3",
   "version": "3.8.5"
  }
 },
 "nbformat": 4,
 "nbformat_minor": 1
}
